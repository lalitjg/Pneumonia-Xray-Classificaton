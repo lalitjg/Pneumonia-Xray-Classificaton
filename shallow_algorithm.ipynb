{
 "cells": [
  {
   "cell_type": "code",
   "execution_count": 1,
   "metadata": {},
   "outputs": [],
   "source": [
    "import numpy as np\n",
    "import pandas as pd"
   ]
  },
  {
   "cell_type": "code",
   "execution_count": 2,
   "metadata": {},
   "outputs": [],
   "source": [
    "#importing csv files of train set, test set, train labels and test labels\n",
    "trainx150=pd.read_csv('/home/cmu/AIML/Project/CNN_flatten_train_input_150.csv',header=None).values\n",
    "trainy150=pd.read_csv('/home/cmu/AIML/Project/Final/trainy_150.csv',header=None).values\n",
    "testx150=pd.read_csv('/home/cmu/AIML/Project/CNN_flatten_test_input_150.csv',header=None).values\n",
    "testy150=pd.read_csv('/home/cmu/AIML/Project/Final/testy_150.csv',header=None).values"
   ]
  },
  {
   "cell_type": "code",
   "execution_count": 3,
   "metadata": {},
   "outputs": [
    {
     "name": "stderr",
     "output_type": "stream",
     "text": [
      "/home/cmu/anaconda3/lib/python3.7/site-packages/ipykernel_launcher.py:5: DataConversionWarning: A column-vector y was passed when a 1d array was expected. Please change the shape of y to (n_samples,), for example using ravel().\n",
      "  \"\"\"\n"
     ]
    },
    {
     "name": "stdout",
     "output_type": "stream",
     "text": [
      "0.9994655264564404\n",
      "0.8253205128205128\n"
     ]
    }
   ],
   "source": [
    "# Random Forest\n",
    "from sklearn.ensemble import RandomForestClassifier\n",
    "from sklearn.datasets import make_classification\n",
    "RF = RandomForestClassifier(n_estimators=20)\n",
    "RF.fit(trainx150,trainy150)\n",
    "acctrain=RF.score(trainx150,trainy150)\n",
    "print(acctrain)\n",
    "prediction_RF=RF.predict(testx150)\n",
    "acctest=RF.score(testx150,testy150)\n",
    "print(acctest)\n"
   ]
  },
  {
   "cell_type": "code",
   "execution_count": 5,
   "metadata": {},
   "outputs": [
    {
     "name": "stdout",
     "output_type": "stream",
     "text": [
      "              precision    recall  f1-score   support\n",
      "\n",
      "         0.0       0.93      0.58      0.71       234\n",
      "         1.0       0.79      0.97      0.87       390\n",
      "\n",
      "    accuracy                           0.83       624\n",
      "   macro avg       0.86      0.78      0.79       624\n",
      "weighted avg       0.84      0.83      0.81       624\n",
      "\n",
      "[[136  98]\n",
      " [ 11 379]]\n"
     ]
    }
   ],
   "source": [
    "true_classes = testy150\n",
    "from sklearn.metrics import classification_report\n",
    "report = classification_report(true_classes, prediction_RF)\n",
    "print(report) \n",
    "from sklearn.metrics import confusion_matrix\n",
    "print(confusion_matrix(true_classes, prediction_RF))"
   ]
  },
  {
   "cell_type": "code",
   "execution_count": 6,
   "metadata": {},
   "outputs": [
    {
     "name": "stderr",
     "output_type": "stream",
     "text": [
      "/home/cmu/anaconda3/lib/python3.7/site-packages/sklearn/utils/validation.py:724: DataConversionWarning: A column-vector y was passed when a 1d array was expected. Please change the shape of y to (n_samples, ), for example using ravel().\n",
      "  y = column_or_1d(y, warn=True)\n"
     ]
    },
    {
     "name": "stdout",
     "output_type": "stream",
     "text": [
      "0.9489577765900588\n",
      "0.8205128205128205\n"
     ]
    }
   ],
   "source": [
    "# SVM\n",
    "from sklearn import svm\n",
    "SVM = svm.SVC(gamma='auto',kernel='linear')\n",
    "SVM.fit(trainx150,trainy150)\n",
    "accuracy_train=SVM.score(trainx150,trainy150)\n",
    "print(accuracy_train)\n",
    "predictions_SVM=SVM.predict(testx150)\n",
    "acctest=SVM.score(testx150,testy150)\n",
    "print(acctest)"
   ]
  },
  {
   "cell_type": "code",
   "execution_count": 7,
   "metadata": {},
   "outputs": [
    {
     "name": "stdout",
     "output_type": "stream",
     "text": [
      "              precision    recall  f1-score   support\n",
      "\n",
      "         0.0       0.94      0.56      0.70       234\n",
      "         1.0       0.79      0.98      0.87       390\n",
      "\n",
      "    accuracy                           0.82       624\n",
      "   macro avg       0.86      0.77      0.79       624\n",
      "weighted avg       0.84      0.82      0.81       624\n",
      "\n",
      "[[131 103]\n",
      " [  9 381]]\n"
     ]
    }
   ],
   "source": [
    "true_classes = testy150\n",
    "from sklearn.metrics import classification_report\n",
    "report = classification_report(true_classes, predictions_SVM)\n",
    "print(report) \n",
    "from sklearn.metrics import confusion_matrix\n",
    "print(confusion_matrix(true_classes, predictions_SVM))"
   ]
  },
  {
   "cell_type": "code",
   "execution_count": 8,
   "metadata": {},
   "outputs": [
    {
     "name": "stderr",
     "output_type": "stream",
     "text": [
      "/home/cmu/anaconda3/lib/python3.7/site-packages/sklearn/linear_model/logistic.py:432: FutureWarning: Default solver will be changed to 'lbfgs' in 0.22. Specify a solver to silence this warning.\n",
      "  FutureWarning)\n",
      "/home/cmu/anaconda3/lib/python3.7/site-packages/sklearn/utils/validation.py:724: DataConversionWarning: A column-vector y was passed when a 1d array was expected. Please change the shape of y to (n_samples, ), for example using ravel().\n",
      "  y = column_or_1d(y, warn=True)\n"
     ]
    },
    {
     "name": "stdout",
     "output_type": "stream",
     "text": [
      "0.9064671298770711 0.7964743589743589\n"
     ]
    }
   ],
   "source": [
    "# Logistic Regression\n",
    "from sklearn.linear_model import LogisticRegression\n",
    "logreg = LogisticRegression(max_iter=100, random_state=50)\n",
    "logreg.fit(trainx150,trainy150)\n",
    "accuracy_train=logreg.score(trainx150,trainy150)\n",
    "predictions_LR=logreg.predict(testx150)\n",
    "acctest=logreg.score(testx150,testy150)\n",
    "print(accuracy_train,acctest)"
   ]
  },
  {
   "cell_type": "code",
   "execution_count": 9,
   "metadata": {},
   "outputs": [
    {
     "name": "stdout",
     "output_type": "stream",
     "text": [
      "              precision    recall  f1-score   support\n",
      "\n",
      "         0.0       0.96      0.48      0.64       234\n",
      "         1.0       0.76      0.99      0.86       390\n",
      "\n",
      "    accuracy                           0.80       624\n",
      "   macro avg       0.86      0.73      0.75       624\n",
      "weighted avg       0.83      0.80      0.78       624\n",
      "\n",
      "[[112 122]\n",
      " [  5 385]]\n"
     ]
    }
   ],
   "source": [
    "true_classes = testy150\n",
    "from sklearn.metrics import classification_report\n",
    "report = classification_report(true_classes, predictions_LR)\n",
    "print(report) \n",
    "from sklearn.metrics import confusion_matrix\n",
    "print(confusion_matrix(true_classes, predictions_LR))"
   ]
  },
  {
   "cell_type": "code",
   "execution_count": 10,
   "metadata": {},
   "outputs": [
    {
     "name": "stderr",
     "output_type": "stream",
     "text": [
      "/home/cmu/anaconda3/lib/python3.7/site-packages/sklearn/preprocessing/label.py:219: DataConversionWarning: A column-vector y was passed when a 1d array was expected. Please change the shape of y to (n_samples, ), for example using ravel().\n",
      "  y = column_or_1d(y, warn=True)\n",
      "/home/cmu/anaconda3/lib/python3.7/site-packages/sklearn/preprocessing/label.py:252: DataConversionWarning: A column-vector y was passed when a 1d array was expected. Please change the shape of y to (n_samples, ), for example using ravel().\n",
      "  y = column_or_1d(y, warn=True)\n"
     ]
    },
    {
     "name": "stdout",
     "output_type": "stream",
     "text": [
      "0.7964743589743589\n"
     ]
    }
   ],
   "source": [
    "# XGBoost\n",
    "from xgboost import XGBClassifier\n",
    "from sklearn.metrics import accuracy_score\n",
    "XG = XGBClassifier(silent=False, \n",
    "                      scale_pos_weight=1,\n",
    "                      learning_rate=0.01,  \n",
    "                      colsample_bytree = 0.4,\n",
    "                      subsample = 0.8,\n",
    "                      objective='binary:logistic', \n",
    "                      n_estimators=2000, \n",
    "                      reg_alpha = 0.3,\n",
    "                      max_depth=5, \n",
    "                      gamma=1);\n",
    "XG.fit(trainx150,trainy150);\n",
    "\n",
    "predictions_XG = XG.predict(testx150)\n",
    "predictions_XG = [round(i) for i in predictions_XG  ]\n",
    "\n",
    "acc_test = accuracy_score(testy150,predictions_XG );\n",
    "print(acc_test)"
   ]
  },
  {
   "cell_type": "code",
   "execution_count": 11,
   "metadata": {},
   "outputs": [
    {
     "name": "stdout",
     "output_type": "stream",
     "text": [
      "              precision    recall  f1-score   support\n",
      "\n",
      "         0.0       0.97      0.47      0.64       234\n",
      "         1.0       0.76      0.99      0.86       390\n",
      "\n",
      "    accuracy                           0.80       624\n",
      "   macro avg       0.86      0.73      0.75       624\n",
      "weighted avg       0.84      0.80      0.78       624\n",
      "\n",
      "[[111 123]\n",
      " [  4 386]]\n"
     ]
    }
   ],
   "source": [
    "true_classes = testy150\n",
    "from sklearn.metrics import classification_report\n",
    "report = classification_report(true_classes, predictions_XG)\n",
    "print(report) \n",
    "from sklearn.metrics import confusion_matrix\n",
    "print(confusion_matrix(true_classes, predictions_XG))"
   ]
  },
  {
   "cell_type": "code",
   "execution_count": 12,
   "metadata": {},
   "outputs": [],
   "source": [
    "np.savetxt('/home/cmu/AIML/Project/Final/preds_RF_150_flatten.csv',prediction_RF,delimiter=',')\n",
    "np.savetxt('/home/cmu/AIML/Project/Final/preds_SVM_150_flatten.csv',predictions_SVM,delimiter=',')\n",
    "np.savetxt('/home/cmu/AIML/Project/Final/preds_LR_150_flatten.csv',predictions_LR,delimiter=',')\n",
    "np.savetxt('/home/cmu/AIML/Project/Final/preds_XG_150_flatten.csv',predictions_XG,delimiter=',')"
   ]
  },
  {
   "cell_type": "code",
   "execution_count": null,
   "metadata": {},
   "outputs": [],
   "source": []
  }
 ],
 "metadata": {
  "kernelspec": {
   "display_name": "Python 3",
   "language": "python",
   "name": "python3"
  },
  "language_info": {
   "codemirror_mode": {
    "name": "ipython",
    "version": 3
   },
   "file_extension": ".py",
   "mimetype": "text/x-python",
   "name": "python",
   "nbconvert_exporter": "python",
   "pygments_lexer": "ipython3",
   "version": "3.7.3"
  }
 },
 "nbformat": 4,
 "nbformat_minor": 2
}
