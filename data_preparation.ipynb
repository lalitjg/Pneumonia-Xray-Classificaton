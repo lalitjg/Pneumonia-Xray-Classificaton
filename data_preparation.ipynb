{
 "cells": [
  {
   "cell_type": "markdown",
   "metadata": {},
   "source": [
    "# This code is for obtaining images in csv format\n",
    "These files are used as input to shallow Machine Learning algorithm"
   ]
  },
  {
   "cell_type": "code",
   "execution_count": 1,
   "metadata": {},
   "outputs": [],
   "source": [
    "import cv2\n",
    "import matplotlib.pyplot as plt\n",
    "import numpy as np\n",
    "import pandas as pd\n",
    "import os"
   ]
  },
  {
   "cell_type": "code",
   "execution_count": null,
   "metadata": {
    "scrolled": false
   },
   "outputs": [],
   "source": [
    "directory = os.fsencode('/home/cmu/AIML/Project/chest_xray/train/NORMAL/')\n",
    "normal=[]\n",
    "faulty_images = []\n",
    "for file in os.listdir(directory):\n",
    "    filename = os.fsdecode(file)\n",
    "    img_path = '/home/cmu/AIML/Project/chest_xray/train/NORMAL/'+ filename \n",
    "    bgr_img = cv2.imread(img_path)\n",
    "    #converting to grey scale\n",
    "    gray_img = cv2.cvtColor(bgr_img, cv2.COLOR_BGR2GRAY)\n",
    "    #Normalizing the images\n",
    "    gray_img = gray_img.astype(\"float32\")/255\n",
    "    #Resizing the images to 150*150\n",
    "    gray_img = cv2.resize(gray_img, (150,150))\n",
    "    normal.append(gray_img)\n",
    "    \n",
    "directory = os.fsencode('/home/cmu/AIML/Project/chest_xray/train/PNEUMONIA/')\n",
    "Pneumonia=[]\n",
    "for file in os.listdir(directory):\n",
    "    filename = os.fsdecode(file)\n",
    "    img_path = '/home/cmu/AIML/Project/chest_xray/train/PNEUMONIA/'+ filename \n",
    "    bgr_img = cv2.imread(img_path)\n",
    "    #converting to grey scale\n",
    "    gray_img = cv2.cvtColor(bgr_img, cv2.COLOR_BGR2GRAY)\n",
    "    #Normalizing the images\n",
    "    gray_img = gray_img.astype(\"float32\")/255\n",
    "    #Resizing the images to 150*150\n",
    "    gray_img = cv2.resize(gray_img, (150,150))\n",
    "    Pneumonia.append(gray_img)"
   ]
  },
  {
   "cell_type": "code",
   "execution_count": null,
   "metadata": {},
   "outputs": [],
   "source": [
    "#Preprocessing for train data \n",
    "\n",
    "normal=np.array(normal)\n",
    "Pneumonia=np.array(Pneumonia)\n",
    "a,b,c=normal.shape\n",
    "d,e,f=Pneumonia.shape\n",
    "N_P=np.concatenate((normal,Pneumonia),axis=0)\n",
    "x,y,z=N_P.shape\n",
    "train=[]\n",
    "for i in range(x):\n",
    "    train.append(N_P[i])\n",
    "train=np.array(train)\n",
    "#flattening the image matrix\n",
    "train=train.reshape(x,150*150)\n",
    "np.savetxt('/home/cmu/AIML/Project/trainx_150.csv',train,delimiter=',')\n",
    "ax=np.zeros(a)\n",
    "by=np.ones(d)\n",
    "labels=np.concatenate((ax,by),axis=0)\n",
    "labels.shape"
   ]
  },
  {
   "cell_type": "markdown",
   "metadata": {},
   "source": [
    "# TEST DATASET PREPARATION\n"
   ]
  },
  {
   "cell_type": "code",
   "execution_count": null,
   "metadata": {},
   "outputs": [],
   "source": [
    "directory = os.fsencode('/home/cmu/AIML/Project/chest_xray/test/NORMAL/')\n",
    "normaltest=[]\n",
    "for file in os.listdir(directory):\n",
    "    filename = os.fsdecode(file)\n",
    "    img_path = '/home/cmu/AIML/Project/chest_xray/test/NORMAL/'+ filename \n",
    "    bgr_img = cv2.imread(img_path)\n",
    "    gray_img = cv2.cvtColor(bgr_img, cv2.COLOR_BGR2GRAY)\n",
    "    gray_img = gray_img.astype(\"float32\")/255\n",
    "    gray_img = cv2.resize(gray_img, (150,150))\n",
    "    normaltest.append(gray_img)\n",
    "directory = os.fsencode('/home/cmu/AIML/Project/chest_xray/test/PNEUMONIA/')\n",
    "Pneumoniatest=[]\n",
    "for file in os.listdir(directory):\n",
    "    filename = os.fsdecode(file)\n",
    "    img_path = '/home/cmu/AIML/Project/chest_xray/test/PNEUMONIA/'+ filename \n",
    "    bgr_img = cv2.imread(img_path\n",
    "    gray_img = cv2.cvtColor(bgr_img, cv2.COLOR_BGR2GRAY)\n",
    "    gray_img = gray_img.astype(\"float32\")/255\n",
    "    gray_img = cv2.resize(gray_img, (150,150))\n",
    "    Pneumoniatest.append(gray_img)"
   ]
  },
  {
   "cell_type": "code",
   "execution_count": null,
   "metadata": {},
   "outputs": [],
   "source": [
    "normaltest=np.array(normaltest)\n",
    "Pneumoniatest=np.array(Pneumoniatest)\n",
    "aa,bb,cc=normaltest.shape\n",
    "dd,ee,ff,=Pneumoniatest.shape\n",
    "N_Ptest=np.concatenate((normaltest,Pneumoniatest),axis=0)\n",
    "xx,yy,zz=N_Ptest.shape\n",
    "test=[]\n",
    "for i in range(xx):\n",
    "    test.append(N_Ptest[i])\n",
    "test=np.array(test).reshape(xx,150*150)\n",
    "ab=np.zeros(aa)\n",
    "bc=np.ones(bb)\n",
    "labelstest=np.concatenate((ab,bc),axis=0)\n",
    "labelstest.shape"
   ]
  },
  {
   "cell_type": "code",
   "execution_count": null,
   "metadata": {},
   "outputs": [],
   "source": [
    "#saving csv files\n",
    "np.savetxt('/home/cmu/AIML/Project/Final/trainx_150.csv',train,delimiter=',')\n",
    "np.savetxt('/home/cmu/AIML/Project/Final/testx_150.csv',test,delimiter=',')\n",
    "np.savetxt('/home/cmu/AIML/Project/Final/trainy_150.csv',labels,delimiter=',')\n",
    "np.savetxt('/home/cmu/AIML/Project/Final/testy_150.csv',labelstest,delimiter=',')"
   ]
  }
 ],
 "metadata": {
  "kernelspec": {
   "display_name": "Python 3",
   "language": "python",
   "name": "python3"
  },
  "language_info": {
   "codemirror_mode": {
    "name": "ipython",
    "version": 3
   },
   "file_extension": ".py",
   "mimetype": "text/x-python",
   "name": "python",
   "nbconvert_exporter": "python",
   "pygments_lexer": "ipython3",
   "version": "3.7.3"
  }
 },
 "nbformat": 4,
 "nbformat_minor": 2
}
