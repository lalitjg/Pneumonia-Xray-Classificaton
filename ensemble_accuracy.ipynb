{
 "cells": [
  {
   "cell_type": "code",
   "execution_count": 1,
   "metadata": {},
   "outputs": [],
   "source": [
    "import numpy as np\n",
    "import pandas as pd"
   ]
  },
  {
   "cell_type": "code",
   "execution_count": 2,
   "metadata": {},
   "outputs": [],
   "source": [
    "# importing predictions of all models\n",
    "SVM=pd.read_csv('/home/cmu/AIML/Project/Final/preds_SVM_150_flatten.csv',header=None).values\n",
    "RF=pd.read_csv('/home/cmu/AIML/Project/Final/preds_RF_150_flatten.csv',header=None).values\n",
    "LR=pd.read_csv('/home/cmu/AIML/Project/Final/preds_LR_150_flatten.csv',header=None).values\n",
    "XG=pd.read_csv('/home/cmu/AIML/Project/Final/preds_XG_150_flatten.csv',header=None).values\n",
    "CNN=pd.read_csv('/home/cmu/AIML/Project/preds_CNN_150_raw.csv',header=None).values"
   ]
  },
  {
   "cell_type": "code",
   "execution_count": 3,
   "metadata": {},
   "outputs": [],
   "source": [
    "# creating a matrix of predictions from all algorithm\n",
    "matrix=np.concatenate((SVM,RF,LR,XG,CNN),axis=1)\n",
    "matrix=pd.DataFrame(matrix)\n",
    "# Majority voting\n",
    "R=matrix.mode(axis='columns').values"
   ]
  },
  {
   "cell_type": "code",
   "execution_count": 4,
   "metadata": {},
   "outputs": [],
   "source": [
    "# importing true labels\n",
    "labels=pd.read_csv('/home/cmu/AIML/Project/testy_150.csv',header=None).values"
   ]
  },
  {
   "cell_type": "code",
   "execution_count": 5,
   "metadata": {},
   "outputs": [
    {
     "name": "stdout",
     "output_type": "stream",
     "text": [
      "Ensemble Accuracy: 0.8269230769230769\n"
     ]
    }
   ],
   "source": [
    "# Calculating final accuracy\n",
    "k=0\n",
    "for i in range(labels.shape[0]):\n",
    "    if R[i]==labels[i]:\n",
    "        k=k+1\n",
    "print('Ensemble Accuracy:', (k/len(labels))) "
   ]
  },
  {
   "cell_type": "code",
   "execution_count": 6,
   "metadata": {},
   "outputs": [
    {
     "name": "stdout",
     "output_type": "stream",
     "text": [
      "              precision    recall  f1-score   support\n",
      "\n",
      "         0.0       0.97      0.56      0.71       234\n",
      "         1.0       0.79      0.99      0.88       390\n",
      "\n",
      "    accuracy                           0.83       624\n",
      "   macro avg       0.88      0.77      0.79       624\n",
      "weighted avg       0.86      0.83      0.81       624\n",
      "\n",
      "[[130 104]\n",
      " [  4 386]]\n"
     ]
    }
   ],
   "source": [
    "true_classes = labels\n",
    "from sklearn.metrics import classification_report\n",
    "report = classification_report(true_classes, R)\n",
    "print(report) \n",
    "from sklearn.metrics import confusion_matrix\n",
    "print(confusion_matrix(true_classes, R))"
   ]
  },
  {
   "cell_type": "code",
   "execution_count": null,
   "metadata": {},
   "outputs": [],
   "source": []
  }
 ],
 "metadata": {
  "kernelspec": {
   "display_name": "Python 3",
   "language": "python",
   "name": "python3"
  },
  "language_info": {
   "codemirror_mode": {
    "name": "ipython",
    "version": 3
   },
   "file_extension": ".py",
   "mimetype": "text/x-python",
   "name": "python",
   "nbconvert_exporter": "python",
   "pygments_lexer": "ipython3",
   "version": "3.7.3"
  }
 },
 "nbformat": 4,
 "nbformat_minor": 2
}
