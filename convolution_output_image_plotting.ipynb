{
 "cells": [
  {
   "cell_type": "code",
   "execution_count": 1,
   "metadata": {},
   "outputs": [
    {
     "name": "stderr",
     "output_type": "stream",
     "text": [
      "Using TensorFlow backend.\n"
     ]
    }
   ],
   "source": [
    "import numpy as np\n",
    "import random as rn\n",
    "import tensorflow as tf\n",
    "from keras import backend as K\n",
    "np.random.seed(42)\n",
    "rn.seed(42)\n",
    "session_conf=tf.compat.v1.ConfigProto(intra_op_parallelism_threads=1, inter_op_parallelism_threads=1)\n",
    "tf.random.set_seed(42)"
   ]
  },
  {
   "cell_type": "code",
   "execution_count": 2,
   "metadata": {},
   "outputs": [],
   "source": [
    "from tensorflow import keras\n",
    "from tensorflow.keras.models import Sequential\n",
    "from tensorflow.keras.layers import Convolution2D as Conv2D\n",
    "from tensorflow.keras.layers import MaxPooling2D\n",
    "from tensorflow.keras.layers import Flatten\n",
    "from tensorflow.keras.layers import Dense\n",
    "from tensorflow.keras.layers import Dropout\n",
    "from tensorflow.keras.layers import BatchNormalization\n",
    "from tensorflow.keras.models import Model\n",
    "import pandas as pd\n",
    "import numpy as np"
   ]
  },
  {
   "cell_type": "code",
   "execution_count": 3,
   "metadata": {},
   "outputs": [],
   "source": [
    "# Importing test and train data\n",
    "data_test=pd.read_csv('/home/cmu/AIML/Project/testx_150.csv',header=None).values\n",
    "#data_train=pd.read_csv('/home/cmu/AIML/Project/trainx_150.csv',header=None).values"
   ]
  },
  {
   "cell_type": "code",
   "execution_count": 4,
   "metadata": {},
   "outputs": [],
   "source": [
    "a_test,b_test=data_test.shape\n",
    "#a_train,b_train=data_train.shape"
   ]
  },
  {
   "cell_type": "code",
   "execution_count": 5,
   "metadata": {},
   "outputs": [],
   "source": [
    "data_test=data_test.reshape(a_test,150,150,1)\n",
    "#data_train=data_train.reshape(a_train,150,150,1)"
   ]
  },
  {
   "cell_type": "code",
   "execution_count": 6,
   "metadata": {},
   "outputs": [],
   "source": [
    "def model(input_shape):\n",
    "    X_inputs = keras.layers.Input(input_shape)\n",
    "    X = X_inputs\n",
    "    \n",
    "    X = keras.layers.Conv2D(filters=16, kernel_size=(3, 3), activation='relu',padding='same')(X)\n",
    "    X = keras.layers.Conv2D(filters=16, kernel_size=(3, 3), activation='relu',padding='same')(X)\n",
    "    X = keras.layers.MaxPooling2D(pool_size=(2, 2))(X)\n",
    "    \n",
    "    X = keras.layers.Conv2D(filters=32, kernel_size=(3, 3), activation='relu',padding='same')(X)\n",
    "    X = keras.layers.Conv2D(filters=32, kernel_size=(3, 3), activation='relu',padding='same')(X)\n",
    "    X = keras.layers.MaxPooling2D(pool_size=(2, 2))(X)\n",
    "    X = keras.layers.BatchNormalization()(X)\n",
    "    \n",
    "    X = keras.layers.Conv2D(filters=64, kernel_size=(3, 3), activation='relu',padding='same')(X)\n",
    "    X = keras.layers.Conv2D(filters=64, kernel_size=(3, 3), activation='relu',padding='same')(X)\n",
    "    X = keras.layers.MaxPooling2D(pool_size=(2, 2))(X)\n",
    "    X = keras.layers.BatchNormalization()(X)\n",
    "    \n",
    "    X = keras.layers.Conv2D(filters=128, kernel_size=(3, 3), activation='relu',padding='same')(X)\n",
    "    X = keras.layers.Conv2D(filters=128, kernel_size=(3, 3), activation='relu',padding='same')(X)\n",
    "    X = keras.layers.MaxPooling2D(pool_size=(2, 2))(X)\n",
    "    X = keras.layers.BatchNormalization()(X)\n",
    "    \n",
    "    X = keras.layers.Flatten()(X)\n",
    "    model = keras.models.Model(inputs=X_inputs, outputs=X, name='cnn')\n",
    "    return model"
   ]
  },
  {
   "cell_type": "code",
   "execution_count": 7,
   "metadata": {},
   "outputs": [
    {
     "name": "stdout",
     "output_type": "stream",
     "text": [
      "Model: \"cnn\"\n",
      "_________________________________________________________________\n",
      "Layer (type)                 Output Shape              Param #   \n",
      "=================================================================\n",
      "input_1 (InputLayer)         [(None, 150, 150, 1)]     0         \n",
      "_________________________________________________________________\n",
      "conv2d (Conv2D)              (None, 150, 150, 16)      160       \n",
      "_________________________________________________________________\n",
      "conv2d_1 (Conv2D)            (None, 150, 150, 16)      2320      \n",
      "_________________________________________________________________\n",
      "max_pooling2d (MaxPooling2D) (None, 75, 75, 16)        0         \n",
      "_________________________________________________________________\n",
      "conv2d_2 (Conv2D)            (None, 75, 75, 32)        4640      \n",
      "_________________________________________________________________\n",
      "conv2d_3 (Conv2D)            (None, 75, 75, 32)        9248      \n",
      "_________________________________________________________________\n",
      "max_pooling2d_1 (MaxPooling2 (None, 37, 37, 32)        0         \n",
      "_________________________________________________________________\n",
      "batch_normalization (BatchNo (None, 37, 37, 32)        128       \n",
      "_________________________________________________________________\n",
      "conv2d_4 (Conv2D)            (None, 37, 37, 64)        18496     \n",
      "_________________________________________________________________\n",
      "conv2d_5 (Conv2D)            (None, 37, 37, 64)        36928     \n",
      "_________________________________________________________________\n",
      "max_pooling2d_2 (MaxPooling2 (None, 18, 18, 64)        0         \n",
      "_________________________________________________________________\n",
      "batch_normalization_1 (Batch (None, 18, 18, 64)        256       \n",
      "_________________________________________________________________\n",
      "conv2d_6 (Conv2D)            (None, 18, 18, 128)       73856     \n",
      "_________________________________________________________________\n",
      "conv2d_7 (Conv2D)            (None, 18, 18, 128)       147584    \n",
      "_________________________________________________________________\n",
      "max_pooling2d_3 (MaxPooling2 (None, 9, 9, 128)         0         \n",
      "_________________________________________________________________\n",
      "batch_normalization_2 (Batch (None, 9, 9, 128)         512       \n",
      "_________________________________________________________________\n",
      "flatten (Flatten)            (None, 10368)             0         \n",
      "=================================================================\n",
      "Total params: 294,128\n",
      "Trainable params: 293,680\n",
      "Non-trainable params: 448\n",
      "_________________________________________________________________\n"
     ]
    }
   ],
   "source": [
    "m_test = model(data_test.shape[1:])\n",
    "m_test.compile(optimizer = 'adam', loss ='binary_crossentropy',metrics = ['accuracy'])\n",
    "m_test.summary()"
   ]
  },
  {
   "cell_type": "code",
   "execution_count": 8,
   "metadata": {},
   "outputs": [],
   "source": [
    "model = m_test"
   ]
  },
  {
   "cell_type": "code",
   "execution_count": 243,
   "metadata": {},
   "outputs": [],
   "source": [
    "#layer_name takes the name of layer in string format\n",
    "layer_name = 'max_pooling2d_2'\n",
    "intermediate_layer_model = Model(inputs=m_test.input,\n",
    "                                 outputs=m_test.get_layer(layer_name).output)\n",
    "intermediate_output_test = intermediate_layer_model.predict(data_test)"
   ]
  },
  {
   "cell_type": "code",
   "execution_count": null,
   "metadata": {},
   "outputs": [],
   "source": [
    "m_train = model(data_train.shape[1:])\n",
    "m_train.compile(optimizer = 'adam', loss ='binary_crossentropy',metrics = ['accuracy'])\n",
    "m_train.summary()"
   ]
  },
  {
   "cell_type": "code",
   "execution_count": null,
   "metadata": {},
   "outputs": [],
   "source": [
    "model = m_train"
   ]
  },
  {
   "cell_type": "code",
   "execution_count": null,
   "metadata": {},
   "outputs": [],
   "source": [
    "#layer_name takes the name of layer in string format\n",
    "layer_name = 'flatten_1'\n",
    "intermediate_layer_model = Model(inputs=m_train.input,\n",
    "                                 outputs=m_train.get_layer(layer_name).output)\n",
    "intermediate_output_train = intermediate_layer_model.predict(data_train)"
   ]
  },
  {
   "cell_type": "code",
   "execution_count": null,
   "metadata": {},
   "outputs": [],
   "source": [
    "#saving flatten layers's output to give this as input to shallow algorithm\n",
    "np.savetxt(\"/home/cmu/AIML/Project/Final/CNN_flatten_train_input_150.csv\",intermediate_output_train,delimiter=',')\n",
    "#np.savetxt(\"/home/cmu/AIML/Project/Final/CNN_flatten_test_input_150.csv\",intermediate_output_test,delimiter=',')"
   ]
  },
  {
   "cell_type": "code",
   "execution_count": 252,
   "metadata": {},
   "outputs": [
    {
     "data": {
      "text/plain": [
       "(18, 18)"
      ]
     },
     "execution_count": 252,
     "metadata": {},
     "output_type": "execute_result"
    }
   ],
   "source": [
    "# plotting images after convolution layers\n",
    "import matplotlib.pyplot as plt\n",
    "image=intermediate_output_test\n",
    "img=image[60,:,:,2]\n",
    "img.shape"
   ]
  },
  {
   "cell_type": "code",
   "execution_count": 253,
   "metadata": {},
   "outputs": [
    {
     "data": {
      "image/png": "[encoded data removed]",
      "text/plain": [
       "<Figure size 432x288 with 1 Axes>"
      ]
     },
     "metadata": {
      "needs_background": "light"
     },
     "output_type": "display_data"
    }
   ],
   "source": [
    "plt.imshow(img)\n",
    "plt.savefig(\"layer_3max_normal.png\",dpi=1200)"
   ]
  },
  {
   "cell_type": "code",
   "execution_count": null,
   "metadata": {},
   "outputs": [],
   "source": []
  },
  {
   "cell_type": "code",
   "execution_count": null,
   "metadata": {},
   "outputs": [],
   "source": []
  }
 ],
 "metadata": {
  "kernelspec": {
   "display_name": "Python 3",
   "language": "python",
   "name": "python3"
  },
  "language_info": {
   "codemirror_mode": {
    "name": "ipython",
    "version": 3
   },
   "file_extension": ".py",
   "mimetype": "text/x-python",
   "name": "python",
   "nbconvert_exporter": "python",
   "pygments_lexer": "ipython3",
   "version": "3.7.3"
  }
 },
 "nbformat": 4,
 "nbformat_minor": 2
}
