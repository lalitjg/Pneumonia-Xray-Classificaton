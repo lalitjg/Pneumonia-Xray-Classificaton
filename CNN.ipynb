{
 "cells": [
  {
   "cell_type": "code",
   "execution_count": 1,
   "metadata": {},
   "outputs": [
    {
     "name": "stderr",
     "output_type": "stream",
     "text": [
      "Using TensorFlow backend.\n"
     ]
    }
   ],
   "source": [
    "import numpy as np\n",
    "import random as rn\n",
    "import tensorflow as tf\n",
    "from keras import backend as K\n",
    "np.random.seed(42)\n",
    "rn.seed(42)\n",
    "session_conf=tf.compat.v1.ConfigProto(intra_op_parallelism_threads=1, inter_op_parallelism_threads=1)\n",
    "tf.random.set_seed(42)\n",
    "\n",
    "#Above is for keeping all the random initializations constant \n",
    "#while tweaking the layer configurations"
   ]
  },
  {
   "cell_type": "code",
   "execution_count": 2,
   "metadata": {},
   "outputs": [],
   "source": [
    "#Importing the required libraries\n",
    "\n",
    "from tensorflow import keras\n",
    "from tensorflow.keras.models import Sequential\n",
    "from tensorflow.keras.layers import Convolution2D as Conv2D\n",
    "from tensorflow.keras.layers import MaxPooling2D\n",
    "from tensorflow.keras.layers import Flatten\n",
    "from tensorflow.keras.layers import Dense\n",
    "from tensorflow.keras.layers import Dropout\n",
    "from tensorflow.keras.layers import BatchNormalization\n",
    "\n",
    "#Using sequential model\n",
    "\n",
    "classifier = Sequential()\n",
    "\n",
    "classifier.add(Conv2D(filters=16, kernel_size=(3, 3), activation='relu',padding='same'))\n",
    "classifier.add(Conv2D(filters=16, kernel_size=(3, 3), activation='relu',padding='same'))\n",
    "classifier.add(MaxPooling2D(pool_size=(2, 2)))\n",
    "#First set of Convolution layers has a Dropout layer to minimize the border noise in X-ray images\n",
    "classifier.add(Dropout(0.3))\n",
    "\n",
    "\n",
    "classifier.add(Conv2D(filters=32, kernel_size=(3, 3), activation='relu',padding='same'))\n",
    "classifier.add(Conv2D(filters=32, kernel_size=(3, 3), activation='relu',padding='same'))\n",
    "classifier.add(MaxPooling2D(pool_size=(2, 2)))\n",
    "classifier.add(BatchNormalization())\n",
    "\n",
    "classifier.add(Conv2D(filters=64, kernel_size=(3, 3), activation='relu',padding='same'))\n",
    "classifier.add(Conv2D(filters=64, kernel_size=(3, 3), activation='relu',padding='same'))\n",
    "classifier.add(MaxPooling2D(pool_size=(2, 2)))\n",
    "classifier.add(BatchNormalization())\n",
    "\n",
    "\n",
    "classifier.add(Conv2D(filters=128, kernel_size=(3, 3), activation='relu',padding='same'))\n",
    "classifier.add(Conv2D(filters=128, kernel_size=(3, 3), activation='relu',padding='same'))\n",
    "classifier.add(MaxPooling2D(pool_size=(2, 2)))\n",
    "classifier.add(BatchNormalization())\n",
    "\n",
    "classifier.add(Flatten())\n",
    "\n",
    "classifier.add(Dense(1024, activation = 'relu'))\n",
    "\n",
    "classifier.add(Dense(512, activation = 'relu'))\n",
    "classifier.add(Dropout(0.3))\n",
    "\n",
    "classifier.add(Dense(128, activation = 'relu'))\n",
    "classifier.add(Dropout(0.3))\n",
    "\n",
    "classifier.add(Dense(64, activation = 'relu'))\n",
    "classifier.add(Dropout(0.3))\n",
    "\n",
    "classifier.add(Dense(1,activation = 'sigmoid'))\n",
    "classifier.compile(optimizer = 'adam', loss ='binary_crossentropy',metrics = ['accuracy'])"
   ]
  },
  {
   "cell_type": "code",
   "execution_count": 3,
   "metadata": {},
   "outputs": [
    {
     "name": "stdout",
     "output_type": "stream",
     "text": [
      "Found 3742 images belonging to 2 classes.\n",
      "Epoch 1/20\n",
      "117/117 [==============================] - 59s 500ms/step - loss: 0.5239 - accuracy: 0.6840\n",
      "Epoch 2/20\n",
      "117/117 [==============================] - 58s 495ms/step - loss: 0.3313 - accuracy: 0.8632\n",
      "Epoch 3/20\n",
      "117/117 [==============================] - 58s 493ms/step - loss: 0.2908 - accuracy: 0.8942\n",
      "Epoch 4/20\n",
      "117/117 [==============================] - 58s 493ms/step - loss: 0.2448 - accuracy: 0.9072\n",
      "Epoch 5/20\n",
      "117/117 [==============================] - 58s 493ms/step - loss: 0.2337 - accuracy: 0.9151\n",
      "Epoch 6/20\n",
      "117/117 [==============================] - 58s 499ms/step - loss: 0.2276 - accuracy: 0.9280\n",
      "Epoch 7/20\n",
      "117/117 [==============================] - 58s 499ms/step - loss: 0.2132 - accuracy: 0.9305\n",
      "Epoch 8/20\n",
      "117/117 [==============================] - 58s 499ms/step - loss: 0.2007 - accuracy: 0.9325\n",
      "Epoch 9/20\n",
      "117/117 [==============================] - 58s 497ms/step - loss: 0.1783 - accuracy: 0.9367\n",
      "Epoch 10/20\n",
      "117/117 [==============================] - 58s 499ms/step - loss: 0.1657 - accuracy: 0.9418\n",
      "Epoch 11/20\n",
      "117/117 [==============================] - 58s 495ms/step - loss: 0.1635 - accuracy: 0.9490\n",
      "Epoch 12/20\n",
      "117/117 [==============================] - 58s 498ms/step - loss: 0.1731 - accuracy: 0.9474\n",
      "Epoch 13/20\n",
      "117/117 [==============================] - 58s 496ms/step - loss: 0.1650 - accuracy: 0.9376\n",
      "Epoch 14/20\n",
      "117/117 [==============================] - 58s 499ms/step - loss: 0.1536 - accuracy: 0.9459\n",
      "Epoch 15/20\n",
      "117/117 [==============================] - 58s 495ms/step - loss: 0.1560 - accuracy: 0.9477\n",
      "Epoch 16/20\n",
      "117/117 [==============================] - 58s 497ms/step - loss: 0.1464 - accuracy: 0.9481\n",
      "Epoch 17/20\n",
      "117/117 [==============================] - 58s 496ms/step - loss: 0.1436 - accuracy: 0.9549\n",
      "Epoch 18/20\n",
      "117/117 [==============================] - 58s 500ms/step - loss: 0.1355 - accuracy: 0.9572\n",
      "Epoch 19/20\n",
      "117/117 [==============================] - 58s 495ms/step - loss: 0.1328 - accuracy: 0.9530\n",
      "Epoch 20/20\n",
      "117/117 [==============================] - 58s 497ms/step - loss: 0.1443 - accuracy: 0.9527\n"
     ]
    },
    {
     "data": {
      "text/plain": [
       "<tensorflow.python.keras.callbacks.History at 0x7f2894ce3630>"
      ]
     },
     "execution_count": 3,
     "metadata": {},
     "output_type": "execute_result"
    }
   ],
   "source": [
    "#Importing images from directories to feed to CNN\n",
    "\n",
    "\n",
    "from tensorflow.keras.preprocessing.image import ImageDataGenerator\n",
    "\n",
    "#Normalizing the images\n",
    "train_data_input = ImageDataGenerator(rescale = 1./225,zoom_range=0.3, vertical_flip=True)\n",
    "\n",
    "test_data_input = ImageDataGenerator(rescale = 1./225)\n",
    "#Resizing the images to 150*150 and setting the batch size to 32\n",
    "training_set = train_data_input.flow_from_directory(\n",
    "    '/home/cmu/AIML/Project/chest_xray/train',shuffle=True,\n",
    "    target_size = (150,150),batch_size = 32,class_mode = 'binary')\n",
    "\n",
    "#Fitting the model to imported images\n",
    "classifier.fit_generator(training_set,epochs = 20)\n",
    "\n"
   ]
  },
  {
   "cell_type": "code",
   "execution_count": 4,
   "metadata": {},
   "outputs": [
    {
     "name": "stdout",
     "output_type": "stream",
     "text": [
      "Model: \"sequential\"\n",
      "_________________________________________________________________\n",
      "Layer (type)                 Output Shape              Param #   \n",
      "=================================================================\n",
      "conv2d (Conv2D)              multiple                  448       \n",
      "_________________________________________________________________\n",
      "conv2d_1 (Conv2D)            multiple                  2320      \n",
      "_________________________________________________________________\n",
      "max_pooling2d (MaxPooling2D) multiple                  0         \n",
      "_________________________________________________________________\n",
      "dropout (Dropout)            multiple                  0         \n",
      "_________________________________________________________________\n",
      "conv2d_2 (Conv2D)            multiple                  4640      \n",
      "_________________________________________________________________\n",
      "conv2d_3 (Conv2D)            multiple                  9248      \n",
      "_________________________________________________________________\n",
      "max_pooling2d_1 (MaxPooling2 multiple                  0         \n",
      "_________________________________________________________________\n",
      "batch_normalization (BatchNo multiple                  128       \n",
      "_________________________________________________________________\n",
      "conv2d_4 (Conv2D)            multiple                  18496     \n",
      "_________________________________________________________________\n",
      "conv2d_5 (Conv2D)            multiple                  36928     \n",
      "_________________________________________________________________\n",
      "max_pooling2d_2 (MaxPooling2 multiple                  0         \n",
      "_________________________________________________________________\n",
      "batch_normalization_1 (Batch multiple                  256       \n",
      "_________________________________________________________________\n",
      "conv2d_6 (Conv2D)            multiple                  73856     \n",
      "_________________________________________________________________\n",
      "conv2d_7 (Conv2D)            multiple                  147584    \n",
      "_________________________________________________________________\n",
      "max_pooling2d_3 (MaxPooling2 multiple                  0         \n",
      "_________________________________________________________________\n",
      "batch_normalization_2 (Batch multiple                  512       \n",
      "_________________________________________________________________\n",
      "flatten (Flatten)            multiple                  0         \n",
      "_________________________________________________________________\n",
      "dense (Dense)                multiple                  10617856  \n",
      "_________________________________________________________________\n",
      "dense_1 (Dense)              multiple                  524800    \n",
      "_________________________________________________________________\n",
      "dropout_1 (Dropout)          multiple                  0         \n",
      "_________________________________________________________________\n",
      "dense_2 (Dense)              multiple                  65664     \n",
      "_________________________________________________________________\n",
      "dropout_2 (Dropout)          multiple                  0         \n",
      "_________________________________________________________________\n",
      "dense_3 (Dense)              multiple                  8256      \n",
      "_________________________________________________________________\n",
      "dropout_3 (Dropout)          multiple                  0         \n",
      "_________________________________________________________________\n",
      "dense_4 (Dense)              multiple                  65        \n",
      "=================================================================\n",
      "Total params: 11,511,057\n",
      "Trainable params: 11,510,609\n",
      "Non-trainable params: 448\n",
      "_________________________________________________________________\n"
     ]
    }
   ],
   "source": [
    "# printing the model summary\n",
    "classifier.summary()"
   ]
  },
  {
   "cell_type": "code",
   "execution_count": 5,
   "metadata": {},
   "outputs": [
    {
     "name": "stdout",
     "output_type": "stream",
     "text": [
      "Found 16 images belonging to 2 classes.\n"
     ]
    }
   ],
   "source": [
    "#Importing validation images from directories to feed to CNN\n",
    "\n",
    "val_set = test_data_input.flow_from_directory(\n",
    "    '/home/cmu/AIML/Project/chest_xray/val',\n",
    "    target_size = (150,150),batch_size = 1,class_mode = 'binary',shuffle=False)\n",
    "#Prediction on validation images\n",
    "val=classifier.predict(val_set)"
   ]
  },
  {
   "cell_type": "code",
   "execution_count": 6,
   "metadata": {},
   "outputs": [
    {
     "name": "stdout",
     "output_type": "stream",
     "text": [
      "Found 624 images belonging to 2 classes.\n"
     ]
    }
   ],
   "source": [
    "#Importing test images from directories to feed to CNN\n",
    "\n",
    "test_set = test_data_input.flow_from_directory(\n",
    "    '/home/cmu/AIML/Project/chest_xray/test',\n",
    "    target_size = (150,150),batch_size = 1,class_mode = 'binary',shuffle=False)\n",
    "\n",
    "#Prediction on test images\n",
    "test=classifier.predict(test_set)"
   ]
  },
  {
   "cell_type": "code",
   "execution_count": 7,
   "metadata": {},
   "outputs": [
    {
     "name": "stdout",
     "output_type": "stream",
     "text": [
      "16/16 [==============================] - 1s 39ms/step - loss: 1.4329 - accuracy: 0.5625\n",
      "624/624 [==============================] - 10s 16ms/step - loss: 0.4352 - accuracy: 0.9006\n"
     ]
    }
   ],
   "source": [
    "#Obtaining accuracies for test and validation datasets\n",
    "accuracy_score_val = classifier.evaluate(val_set)\n",
    "accuracy_score_test = classifier.evaluate(test_set)"
   ]
  },
  {
   "cell_type": "code",
   "execution_count": 8,
   "metadata": {},
   "outputs": [
    {
     "name": "stdout",
     "output_type": "stream",
     "text": [
      "Test Accuracy: 0.900641\n",
      "Validation Accuracy: 0.5625\n"
     ]
    }
   ],
   "source": [
    "print('Test Accuracy: '+str(accuracy_score_test[1]))\n",
    "print('Validation Accuracy: '+str(accuracy_score_val[1]))"
   ]
  },
  {
   "cell_type": "code",
   "execution_count": 9,
   "metadata": {
    "scrolled": false
   },
   "outputs": [],
   "source": [
    "# converting predictions to binary classes\n",
    "val[val<=0.5]=0\n",
    "val[val>0.5]=1"
   ]
  },
  {
   "cell_type": "code",
   "execution_count": 10,
   "metadata": {},
   "outputs": [],
   "source": [
    "# converting predictions to binary classes\n",
    "test[test<=0.5]=0\n",
    "test[test>0.5]=1"
   ]
  },
  {
   "cell_type": "code",
   "execution_count": 11,
   "metadata": {},
   "outputs": [
    {
     "name": "stdout",
     "output_type": "stream",
     "text": [
      "              precision    recall  f1-score   support\n",
      "\n",
      "      NORMAL       1.00      0.12      0.22         8\n",
      "   PNEUMONIA       0.53      1.00      0.70         8\n",
      "\n",
      "    accuracy                           0.56        16\n",
      "   macro avg       0.77      0.56      0.46        16\n",
      "weighted avg       0.77      0.56      0.46        16\n",
      "\n",
      "[[1 7]\n",
      " [0 8]]\n"
     ]
    }
   ],
   "source": [
    "# Obtaining confusion matrix and evaluation parameters - Recall, Precision and Accuracy\n",
    "true_classes = val_set.classes\n",
    "class_labels = list(val_set.class_indices.keys()) \n",
    "from sklearn.metrics import classification_report\n",
    "report = classification_report(true_classes, val, target_names=class_labels)\n",
    "print(report) \n",
    "from sklearn.metrics import confusion_matrix\n",
    "print(confusion_matrix(true_classes, val))"
   ]
  },
  {
   "cell_type": "code",
   "execution_count": 12,
   "metadata": {},
   "outputs": [
    {
     "name": "stdout",
     "output_type": "stream",
     "text": [
      "              precision    recall  f1-score   support\n",
      "\n",
      "      NORMAL       0.97      0.76      0.85       234\n",
      "   PNEUMONIA       0.87      0.98      0.93       390\n",
      "\n",
      "    accuracy                           0.90       624\n",
      "   macro avg       0.92      0.87      0.89       624\n",
      "weighted avg       0.91      0.90      0.90       624\n",
      "\n",
      "[[178  56]\n",
      " [  6 384]]\n"
     ]
    }
   ],
   "source": [
    "# Obtaining confusion matrix and evaluation parameters - Recall, Precision and Accuracy\n",
    "true_classes = test_set.classes\n",
    "class_labels = list(test_set.class_indices.keys()) \n",
    "from sklearn.metrics import classification_report\n",
    "report = classification_report(true_classes, test, target_names=class_labels)\n",
    "print(report) \n",
    "from sklearn.metrics import confusion_matrix\n",
    "print(confusion_matrix(true_classes, test))"
   ]
  },
  {
   "cell_type": "code",
   "execution_count": 55,
   "metadata": {},
   "outputs": [],
   "source": [
    "\n",
    "import matplotlib.pyplot as plt"
   ]
  },
  {
   "cell_type": "code",
   "execution_count": 75,
   "metadata": {},
   "outputs": [
    {
     "data": {
      "image/png": "[encoded data removed]",
      "text/plain": [
       "<Figure size 432x288 with 1 Axes>"
      ]
     },
     "metadata": {
      "needs_background": "light"
     },
     "output_type": "display_data"
    }
   ],
   "source": [
    "plt.plot(classifier.history.history['accuracy'])\n",
    "plt.title('Model accuracy')\n",
    "plt.ylabel('Accuracy')\n",
    "plt.xlabel('Epoch')\n",
    "plt.legend(['Train', 'Test'], loc='upper left')\n",
    "plt.xlim((-1,20))\n",
    "plt.savefig('model_accuracy.png')\n",
    "plt.show()\n"
   ]
  },
  {
   "cell_type": "code",
   "execution_count": 76,
   "metadata": {},
   "outputs": [
    {
     "data": {
      "image/png": "[encoded data removed]",
      "text/plain": [
       "<Figure size 432x288 with 1 Axes>"
      ]
     },
     "metadata": {
      "needs_background": "light"
     },
     "output_type": "display_data"
    }
   ],
   "source": [
    "plt.plot(classifier.history.history['loss'])\n",
    "plt.title('Model loss')\n",
    "plt.ylabel('Accuracy')\n",
    "plt.xlabel('Epoch')\n",
    "plt.legend(['Train', 'Test'], loc='upper left')\n",
    "plt.xlim((-1,20))\n",
    "plt.savefig('model_loss.png')\n",
    "plt.show()\n"
   ]
  },
  {
   "cell_type": "code",
   "execution_count": 56,
   "metadata": {},
   "outputs": [],
   "source": [
    "#Saving the weights of the Fully Connected Neural Net\n",
    "classifier.save_weights('final_weights.h5')\n"
   ]
  },
  {
   "cell_type": "code",
   "execution_count": null,
   "metadata": {},
   "outputs": [],
   "source": [
    "#saving predictions\n",
    "#np.savetxt('/home/cmu/AIML/Project/Final/preds_CNN_150.csv',test,delimiter=',')"
   ]
  },
  {
   "cell_type": "code",
   "execution_count": null,
   "metadata": {},
   "outputs": [],
   "source": [
    "from keras.utils import plot_model\n",
    "plot_model(classifier, to_file='model.png')"
   ]
  }
 ],
 "metadata": {
  "kernelspec": {
   "display_name": "Python 3",
   "language": "python",
   "name": "python3"
  },
  "language_info": {
   "codemirror_mode": {
    "name": "ipython",
    "version": 3
   },
   "file_extension": ".py",
   "mimetype": "text/x-python",
   "name": "python",
   "nbconvert_exporter": "python",
   "pygments_lexer": "ipython3",
   "version": "3.7.3"
  }
 },
 "nbformat": 4,
 "nbformat_minor": 2
}
